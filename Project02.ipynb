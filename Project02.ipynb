{
 "cells": [
  {
   "cell_type": "code",
   "execution_count": 1,
   "metadata": {},
   "outputs": [],
   "source": [
    "import numpy as np\n",
    "import os\n",
    "import cv2\n",
    "import glob\n",
    "import time\n",
    "import random\n",
    "from matplotlib import pyplot as plt\n",
    "from skimage.feature import haar_like_feature_coord\n",
    "from skimage.transform import integral\n",
    "import xml.etree.ElementTree as ET"
   ]
  },
  {
   "cell_type": "code",
   "execution_count": 2,
   "metadata": {},
   "outputs": [],
   "source": [
    "# Creating haar features\n",
    "def featureCreate(img, fType):\n",
    "    coord, _ = haar_like_feature_coord(img.shape[1], img.shape[0], fType)\n",
    "    return coord"
   ]
  },
  {
   "cell_type": "code",
   "execution_count": 3,
   "metadata": {},
   "outputs": [],
   "source": [
    "# Rectangle area for an array of points\n",
    "def imgSubArea(imgInt, points):\n",
    "    images = np.stack(imgInt)\n",
    "    # Rectangles points\n",
    "    pt1_x = np.array(points[:,0,0]).astype(int)\n",
    "    pt1_y = np.array(points[:,0,1]).astype(int)\n",
    "    pt2_x = np.array(points[:,1,0]).astype(int)\n",
    "    pt2_y = np.array(points[:,1,1]).astype(int)\n",
    "    \n",
    "    # Rectangle area calculation\n",
    "    D = images[:,pt2_x,pt2_y]\n",
    "    A = np.logical_and((pt1_x-1>=0),(pt1_y-1>=0))*images[:,pt1_x-1,pt1_y-1]\n",
    "    B = (pt1_x-1>=0)*images[:,pt1_x-1,pt2_y]\n",
    "    C = (pt1_y-1>=0)*images[:,pt2_x,pt1_y-1]\n",
    "    \n",
    "    subArea = D+A-B-C\n",
    "    return subArea"
   ]
  },
  {
   "cell_type": "code",
   "execution_count": 4,
   "metadata": {},
   "outputs": [],
   "source": [
    "# Rectangle area for single point pair (Used for test data)\n",
    "def imgSubAreaSimple(imgInt, pt1, pt2):\n",
    "    images = np.stack(imgInt)\n",
    "    pt1_x = pt1[0]\n",
    "    pt1_y = pt1[1]\n",
    "    pt2_x = pt2[0]\n",
    "    pt2_y = pt2[1]\n",
    "    \n",
    "    D = images[:,pt2_x,pt2_y]\n",
    "    if (pt1_x-1>=0) and (pt1_y-1>=0): A = images[:,pt1_x-1,pt1_y-1] \n",
    "    else: A = 0\n",
    "    if (pt1_x-1>=0): B = images[:,pt1_x-1,pt2_y]\n",
    "    else: B = 0\n",
    "    if (pt1_y-1>=0): C = images[:,pt2_x,pt1_y-1]\n",
    "    else: C = 0\n",
    "    return D+A-B-C"
   ]
  },
  {
   "cell_type": "code",
   "execution_count": 5,
   "metadata": {},
   "outputs": [],
   "source": [
    "# Value of haar features\n",
    "def getHaarValue(imgInt, haar):\n",
    "    numRect = len(haar)\n",
    "    value = 0\n",
    "    c = -1\n",
    "    for i in range(0,numRect):\n",
    "        c *= -1\n",
    "        value += imgSubArea(imgInt,haar[i])*c\n",
    "    return abs(value)"
   ]
  },
  {
   "cell_type": "code",
   "execution_count": 6,
   "metadata": {},
   "outputs": [],
   "source": [
    "# Value of only one haar feature (Used for test data)\n",
    "def getHaarValueSimple(img, haar):\n",
    "    numRect = len(haar) # 2\n",
    "    value = 0\n",
    "    imgInt = []\n",
    "    for imgs in img:\n",
    "        imgInt.append(integral.integral_image(imgs))\n",
    "    c = -1\n",
    "    for i in range(0,numRect):\n",
    "        c *= -1\n",
    "        value += imgSubAreaSimple(imgInt,haar[i][0],haar[i][1])*c\n",
    "    return abs(value)"
   ]
  },
  {
   "cell_type": "code",
   "execution_count": 7,
   "metadata": {},
   "outputs": [],
   "source": [
    "# Gets the number of error, output and classification of haar features in dataList\n",
    "def getHarrError(dataList, coordList, threshold, labels, weights):\n",
    "    fValues = []\n",
    "    fClass = []\n",
    "    err = []\n",
    "    imgInt = []\n",
    "    for imgs in dataList:\n",
    "        imgInt.append(integral.integral_image(imgs))\n",
    "    for t in range(0,len(coordList)):\n",
    "        # Change of coordList to list of tensors: (numHaars,Point,Coordinate)\n",
    "        auxList = []\n",
    "        auxCoord = coordList[t].copy()\n",
    "        for r in range(0,len(auxCoord[0])):\n",
    "            tmp = np.zeros([len(auxCoord),len(auxCoord[0]),2])\n",
    "            for n in range(0,len(auxCoord)):\n",
    "                tmp[n,0,:] = np.asarray(auxCoord[n][r][0])\n",
    "                tmp[n,1,:] = np.asarray(auxCoord[n][r][1])\n",
    "            auxList.append(tmp)        \n",
    "        haarValue = getHaarValue(imgInt,auxList)\n",
    "        labelsMat = np.tile(labels,(len(auxCoord),1)).T\n",
    "        classValue = ((haarValue>threshold)!=labelsMat)*1 # 1: wrong class, 0: correct class\n",
    "        fValues.append(haarValue)\n",
    "        fClass.append(classValue)\n",
    "        err.append(np.sum(classValue.T*weights,axis=1))\n",
    "    return err,fValues,fClass"
   ]
  },
  {
   "cell_type": "code",
   "execution_count": 8,
   "metadata": {},
   "outputs": [],
   "source": [
    "# Creates XML file for parameters\n",
    "def saveParams(haarList,alphaList,name,rootText):    \n",
    "    root = ET.Element('data')\n",
    "    root.text = rootText\n",
    "    for n in range(0,len(haarList)):\n",
    "        nComment = \"WeakClassifier\"\n",
    "        nItem = ET.SubElement(root, nComment)\n",
    "        nItem.set('name',nComment+\" \"+str(n+1))\n",
    "        nItem.text = \"alpha: \" + str(alphaList[n])\n",
    "        for r in range(0,len(haarList[n])):\n",
    "            rComment = \"Rectangle\"\n",
    "            rItem = ET.SubElement(nItem, rComment)\n",
    "            rItem.set('name',rComment+\" \"+str(r+1))\n",
    "            for p in range(0,len(haarList[n][r])):\n",
    "                pComment = \"Point\"\n",
    "                pItem = ET.SubElement(rItem, pComment)\n",
    "                pItem.set('name',pComment+\" \"+str(p+1))\n",
    "                for xy in range(0,len(haarList[n][r][p])):\n",
    "                    if xy==0:\n",
    "                        xyComment = \"X\"\n",
    "                    else:\n",
    "                        xyComment = \"Y\"\n",
    "                    xyItem = ET.SubElement(pItem, xyComment)\n",
    "                    xyItem.set('name',xyComment)\n",
    "                    xyItem.text = str(haarList[n][r][p][xy])\n",
    "    paramsTree = ET.ElementTree(root)\n",
    "    paramsTree.write(name)"
   ]
  },
  {
   "cell_type": "code",
   "execution_count": 9,
   "metadata": {},
   "outputs": [],
   "source": [
    "# Gets parameters from xml file and store in two lists hParams and alpha values\n",
    "def getParams(xmlFile):\n",
    "    tree = ET.parse(xmlFile)\n",
    "    root = tree.getroot()\n",
    "    aList = []\n",
    "    nList = []\n",
    "    for nClass in root:\n",
    "        aList.append(float(nClass.text[7:]))\n",
    "        rList = []\n",
    "        for rects in nClass:\n",
    "            pList = []\n",
    "            for points in rects:\n",
    "                xyList = []\n",
    "                for xy in points:\n",
    "                    xyList.append(int(xy.text))\n",
    "                pList.append(tuple(xyList))\n",
    "            rList.append(pList)\n",
    "        nList.append(rList)\n",
    "    return nList,aList"
   ]
  },
  {
   "cell_type": "code",
   "execution_count": 10,
   "metadata": {},
   "outputs": [
    {
     "name": "stdout",
     "output_type": "stream",
     "text": [
      "Total images in face dataset: 1535\n",
      "Total images in non-face dataset: 1535\n"
     ]
    }
   ],
   "source": [
    "# Dataset read and resize (INIT)\n",
    "def readDataset(datasetPath, imgNewSz, equ=False):\n",
    "    imgList = []\n",
    "    imgFiles = glob.glob(datasetPath+\"*.jpg\")\n",
    "    random.shuffle(imgFiles) # Randomize images position in list\n",
    "    for imgPath in imgFiles:\n",
    "        imgColor = cv2.imread(imgPath)\n",
    "        img = cv2.cvtColor(imgColor,cv2.COLOR_BGR2GRAY)\n",
    "        if equ:\n",
    "            img = cv2.equalizeHist(img)\n",
    "        imgResz = cv2.resize(img,(imgNewSz,imgNewSz), interpolation = cv2.INTER_AREA)\n",
    "        imgList.append(np.array(imgResz)/255.0)\n",
    "    return imgList\n",
    "\n",
    "imgNewSz = 24 # New image size. Value in pixel\n",
    "equEnable = True # Enables equalization histogram\n",
    "projectPath = os.getcwd()\n",
    "\n",
    "# Reading faces images\n",
    "faceFolderName = \"Dataset\\\\Faces\"\n",
    "facePath = projectPath + \"\\\\\" + faceFolderName + \"\\\\\"\n",
    "faceList = readDataset(facePath, imgNewSz,equEnable)\n",
    "\n",
    "# Reading non faces images\n",
    "nonfaceFolderName = \"Dataset\\\\Non Faces\"\n",
    "nonfacePath = projectPath + \"\\\\\" + nonfaceFolderName + \"\\\\\"\n",
    "nonfaceList = readDataset(nonfacePath, imgNewSz,equEnable)\n",
    "\n",
    "print(\"Total images in face dataset:\",len(faceList))\n",
    "print(\"Total images in non-face dataset:\",len(nonfaceList))"
   ]
  },
  {
   "cell_type": "code",
   "execution_count": 14,
   "metadata": {},
   "outputs": [],
   "source": [
    "# Getting coordinates of haar features per type\n",
    "fTypeList = ['type-2-x', 'type-2-y','type-3-x', 'type-3-y','type-4']\n",
    "coordL = []\n",
    "img = faceList[0]\n",
    "for fTypes in fTypeList:\n",
    "    coordL.append(featureCreate(img,fTypes))"
   ]
  },
  {
   "cell_type": "code",
   "execution_count": 15,
   "metadata": {},
   "outputs": [
    {
     "name": "stdout",
     "output_type": "stream",
     "text": [
      "Original Features: 161864\n",
      "New Features: 96666\n"
     ]
    }
   ],
   "source": [
    "# Reduce the number of features if feature total pixels are less than value1 or greater than value2\n",
    "def reduceCoord(coords, value1, value2):\n",
    "    for t in range(0,len(coords)):\n",
    "        for n in range(0,len(coords[t])):\n",
    "            numRect = len(coords[t][n])\n",
    "            whitePixels = 0\n",
    "            blackPixels = 0\n",
    "            for i in range(0,numRect,2):\n",
    "                # White Rectangles\n",
    "                whiteAux = np.asarray(coords[t][n][i])\n",
    "                whitePixels += np.prod(whiteAux[1,:]-whiteAux[0,:]+1)\n",
    "\n",
    "                # Black Rectangle\n",
    "                if i+1<numRect:\n",
    "                    blackAux = np.asarray(coords[t][n][i+1])\n",
    "                    blackPixels += np.prod(blackAux[1,:]-blackAux[0,:]+1)\n",
    "            if (blackPixels+whitePixels)<value1 or (blackPixels+whitePixels)>value2:\n",
    "                coords[t][n] = 'N'\n",
    "        coords[t] = coords[t][coords[t]!='N']\n",
    "    return coords\n",
    "\n",
    "# Reducing Features\n",
    "lowLimit = 40\n",
    "upLimit = 520\n",
    "temp = coordL.copy()\n",
    "coordList = reduceCoord(temp,lowLimit,upLimit)\n",
    "lenOri = 0\n",
    "lenRed = 0\n",
    "for t in range(0,len(coordL)):\n",
    "    lenOri += len(coordL[t])\n",
    "    lenRed += len(coordList[t])\n",
    "\n",
    "print(\"Original Features:\",lenOri)\n",
    "print(\"New Features:\",lenRed)"
   ]
  },
  {
   "cell_type": "code",
   "execution_count": 56,
   "metadata": {},
   "outputs": [
    {
     "name": "stdout",
     "output_type": "stream",
     "text": [
      "Train Data: 2456\n",
      "Test Data: 614\n"
     ]
    }
   ],
   "source": [
    "# Train and Test List generation\n",
    "def splitDataset(data, trainSz):\n",
    "    numData = len(data)\n",
    "    if (trainSz<=numData):\n",
    "        dataTrain = data[0:trainSz]\n",
    "        dataTest = data[trainSz:numData]\n",
    "    else:\n",
    "        print(\"Train size is bigger than dataset size\")\n",
    "        dataTrain = 0\n",
    "        dataTest = 0\n",
    "    return dataTrain,dataTest\n",
    "\n",
    "# Dividing in Train and Test\n",
    "per = 0.8 # Percentage of Train data\n",
    "trainSz = int(np.floor(per*len(faceList)))\n",
    "trainFace,testFace = splitDataset(faceList,trainSz)\n",
    "trainNonFace,testNonFace = splitDataset(nonfaceList,trainSz)\n",
    "print(\"Train Data:\",len(trainFace)+len(trainNonFace))\n",
    "print(\"Test Data:\",len(testFace)+len(testNonFace))"
   ]
  },
  {
   "cell_type": "code",
   "execution_count": 51,
   "metadata": {},
   "outputs": [
    {
     "name": "stdout",
     "output_type": "stream",
     "text": [
      "Time iteration 1: 47.305 s\n",
      "Time iteration 2: 49.732 s\n",
      "Time iteration 3: 43.978 s\n",
      "Time iteration 4: 43.3 s\n",
      "Time iteration 5: 43.196 s\n",
      "Time iteration 6: 43.234 s\n",
      "Time iteration 7: 43.176 s\n",
      "Time iteration 8: 43.285 s\n",
      "Time iteration 9: 43.369 s\n",
      "Time iteration 10: 43.215 s\n",
      "Time iteration 11: 43.202 s\n",
      "Time iteration 12: 43.243 s\n",
      "Time iteration 13: 43.267 s\n",
      "Time iteration 14: 43.213 s\n",
      "Time iteration 15: 43.204 s\n",
      "Time iteration 16: 43.162 s\n",
      "Time iteration 17: 43.274 s\n",
      "Time iteration 18: 43.19 s\n",
      "Time iteration 19: 43.297 s\n",
      "Time iteration 20: 43.202 s\n"
     ]
    }
   ],
   "source": [
    "# Training\n",
    "# Merge datasets (faces and Non Faces)\n",
    "maxFaces = 1200\n",
    "maxNonfaces = 1200\n",
    "dataFace = trainFace[0:maxFaces]\n",
    "dataNonFace = trainNonFace[0:maxNonfaces]\n",
    "trainList = dataFace + dataNonFace\n",
    "labels = [1]*len(dataFace) + [0]*len(dataNonFace)\n",
    "threshold = 5\n",
    "maxIter = 20\n",
    "\n",
    "# Step 0 - Initialize data weights\n",
    "w = np.ones(len(trainList))/len(trainList)\n",
    "\n",
    "# Train LOOP\n",
    "haarList = []\n",
    "alphaList = []\n",
    "for iters in range(0,maxIter):\n",
    "    # Step 1 - Get errors\n",
    "    start = time.time() # Start time        \n",
    "    err,fValues,cValues = getHarrError(trainList, coordList, threshold, labels,w)\n",
    "    \n",
    "    # Step 2 - Get min haar and alpha\n",
    "    minErr = len(trainList)\n",
    "    minIndex = 0\n",
    "    for t in range(0,len(err)):\n",
    "        minErrOld = min(err[t])\n",
    "        if minErrOld < minErr:\n",
    "            minErr = minErrOld\n",
    "            minType = t # Gets 1st list index for minimum error\n",
    "            minIndex = np.argmin(err[t]) # Gets 2nd list index for minimum error\n",
    "    minHaar = coordList[minType][minIndex]\n",
    "    alpha = 0.5*np.log((1-minErr)/minErr)\n",
    "\n",
    "    # Step 3/4 - Update Weights, Assign new weights\n",
    "    ht = (fValues[minType][:,minIndex]>threshold)*2-1 # Classification for each image (face=1, Non-face=-1)\n",
    "    ylabels = np.array(labels)*2-1 # Labels for each image (face=1, Non-face=-1)\n",
    "    new_w = w*np.exp(-1*ylabels*alpha*ht)\n",
    "    w = new_w/sum(new_w)\n",
    "\n",
    "    # Store min haar and Alpha\n",
    "    haarList.append(minHaar)\n",
    "    alphaList.append(alpha)\n",
    "    \n",
    "    # Total Time\n",
    "    ptime = time.time() - start # Stop time\n",
    "    print(\"Time iteration \"+str(iters+1)+\": \"+str(round(ptime,3))+\" s\")"
   ]
  },
  {
   "cell_type": "code",
   "execution_count": 137,
   "metadata": {
    "scrolled": false
   },
   "outputs": [
    {
     "data": {
      "image/png": "[encoded data removed]",
      "text/plain": [
       "<Figure size 720x720 with 6 Axes>"
      ]
     },
     "metadata": {
      "needs_background": "light"
     },
     "output_type": "display_data"
    }
   ],
   "source": [
    "# Plot Haar features\n",
    "img = (trainList[100]*255).astype(np.uint8)\n",
    "haarsPerRow = 3\n",
    "haars = 5\n",
    "fig,axes = plt.subplots(int(np.floor(haars/haarsPerRow))+1, haarsPerRow,figsize=(10,10))\n",
    "ax = axes.ravel()\n",
    "ax[0].imshow(img, cmap='gray', vmin=0, vmax=255)\n",
    "ax[0].title.set_text(\"Original\")\n",
    "colorWhite = (255,255,255)\n",
    "colorBlack = (0,0,0)\n",
    "for haarID in range(1,haars+1):\n",
    "    img = (trainList[100]*255).astype(np.uint8)\n",
    "    for r in range(0,len(haarList[haarID]),2):\n",
    "        pt1White = haarList[haarID][r][0]\n",
    "        pt2White = haarList[haarID][r][1]\n",
    "        cv2.rectangle(img, pt1White, pt2White, colorWhite, -1)\n",
    "        if (r+1)<len(haarList[haarID]):\n",
    "            pt1Black = haarList[haarID][r+1][0]\n",
    "            pt2Black = haarList[haarID][r+1][1]\n",
    "            cv2.rectangle(img, pt1Black, pt2Black, colorBlack, -1)\n",
    "    ax[haarID].imshow(img, cmap='gray', vmin=0, vmax=255)\n",
    "    ax[haarID].title.set_text(\"Alpha=\"+str(round(alphaList[haarID],6)))\n",
    "numTrain = 0\n",
    "numTrain = maxFaces"
   ]
  },
  {
   "cell_type": "code",
   "execution_count": 138,
   "metadata": {},
   "outputs": [
    {
     "name": "stdout",
     "output_type": "stream",
     "text": [
      "Accuracy: 0.89\n",
      "True Positive Rate: 0.88\n",
      "True Negative Rate: 0.9\n"
     ]
    }
   ],
   "source": [
    "# Testing\n",
    "# Merge datasets (faces and Non Faces)\n",
    "maxFaces = 300\n",
    "maxNonFaces = 300\n",
    "dataFace = testFace[0:maxFaces]\n",
    "dataNonFace = testNonFace[0:maxNonFaces]\n",
    "testList = dataFace + dataNonFace\n",
    "faceLabels = [1]*len(dataFace)\n",
    "nonfaceLabels = [-1]*len(dataNonFace)\n",
    "yLabels = np.array(faceLabels+nonfaceLabels)\n",
    "\n",
    "# Strong Classifier\n",
    "def classifyHaar(testList,haarList,alphaList,threshold,T):\n",
    "    accClass = np.zeros(len(testList))\n",
    "    for i in range(0,len(haarList)):\n",
    "        haarValue = getHaarValueSimple(testList, haarList[i]) \n",
    "        ht = (haarValue>T)*2-1 # Haar classification faces:+1, nonfaces:-1\n",
    "        accClass += ht*alphaList[i]\n",
    "    testLabels = (accClass>=threshold)*2-1\n",
    "    return testLabels,accClass\n",
    "\n",
    "# Accuracy Calculation\n",
    "thresHaar = 0 # F(x) threshold\n",
    "testLabels,_ = classifyHaar(testList,haarList,alphaList,thresHaar,threshold)\n",
    "testAcc = round(sum(yLabels==testLabels)/len(yLabels),3)\n",
    "TPR = round(sum(faceLabels==testLabels[0:maxFaces])/maxFaces,3)\n",
    "TNR = round(sum(nonfaceLabels==testLabels[maxFaces::])/maxNonFaces,3)\n",
    "print(\"Accuracy:\",testAcc)\n",
    "print(\"True Positive Rate:\",TPR)\n",
    "print(\"True Negative Rate:\",TNR)\n",
    "\n",
    "# Save strong classifier params in XML file\n",
    "rootText = \"Train Size:\"+str(numTrain)+\", Threshold:\"+str(threshold)+\", Iteractions:\"+str(maxIter)+\\\n",
    "\", Upper Limit:\"+str(upLimit)+\", Lower Limit:\"+str(lowLimit)+\", Equ:\"+str(equEnable)\n",
    "paramsName = \"Params_\"+\"TPR_\"+str(TPR)+\"_TNR_\"+str(TNR)+\".xml\"\n",
    "saveParams(haarList,alphaList,paramsName,rootText)"
   ]
  },
  {
   "cell_type": "code",
   "execution_count": 139,
   "metadata": {},
   "outputs": [
    {
     "data": {
      "text/plain": [
       "Text(0.5, 1.0, 'ROC Haar Features Adaboost')"
      ]
     },
     "execution_count": 139,
     "metadata": {},
     "output_type": "execute_result"
    },
    {
     "data": {
      "image/png": "[encoded data removed]",
      "text/plain": [
       "<Figure size 432x288 with 1 Axes>"
      ]
     },
     "metadata": {
      "needs_background": "light"
     },
     "output_type": "display_data"
    }
   ],
   "source": [
    "# Plot ROC Curve\n",
    "plt.figure()\n",
    "startThres = -5\n",
    "endThres = 5\n",
    "lenROC = 1000\n",
    "pltFPR=np.zeros(lenROC)\n",
    "pltTPR=np.zeros(lenROC)\n",
    "for i in range(0,lenROC):\n",
    "    thresHaar = startThres+i/(lenROC-1)*(endThres-startThres)\n",
    "    testLabels,_ = classifyHaar(testList,haarList,alphaList,thresHaar,threshold)\n",
    "    pltTPR[i] = sum(faceLabels==testLabels[0:maxFaces])/maxFaces\n",
    "    pltFPR[i] = 1-sum(nonfaceLabels==testLabels[maxFaces::])/maxNonFaces\n",
    "\n",
    "plt.plot(pltFPR,pltTPR)\n",
    "plt.xlabel(\"False Positive Rate\") \n",
    "plt.ylabel(\"True Positive Rate\") \n",
    "plt.title(\"ROC Haar Features Adaboost\")"
   ]
  },
  {
   "cell_type": "code",
   "execution_count": null,
   "metadata": {},
   "outputs": [],
   "source": []
  }
 ],
 "metadata": {
  "kernelspec": {
   "display_name": "Python 3.7.4 64-bit",
   "language": "python",
   "name": "python37464bitf0f7fbcc815e4fb0b25b3aa3cfc31314"
  },
  "language_info": {
   "codemirror_mode": {
    "name": "ipython",
    "version": 3
   },
   "file_extension": ".py",
   "mimetype": "text/x-python",
   "name": "python",
   "nbconvert_exporter": "python",
   "pygments_lexer": "ipython3",
   "version": "3.7.4"
  }
 },
 "nbformat": 4,
 "nbformat_minor": 2
}
